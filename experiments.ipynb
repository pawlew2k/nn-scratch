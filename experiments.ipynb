{
 "cells": [
  {
   "cell_type": "markdown",
   "source": [
    "##### put experiments here (all imports and only necessary implementation configs (modified hyperparameters)\n",
    "##### as little code as possible, as much plots as possible"
   ],
   "metadata": {
    "collapsed": false
   },
   "id": "f2cea0f0bd9a6834"
  },
  {
   "cell_type": "code",
   "execution_count": null,
   "outputs": [],
   "source": [],
   "metadata": {
    "collapsed": false
   },
   "id": "9547a6a8d5b36fb8"
  }
 ],
 "metadata": {
  "kernelspec": {
   "display_name": "Python 3",
   "language": "python",
   "name": "python3"
  },
  "language_info": {
   "codemirror_mode": {
    "name": "ipython",
    "version": 2
   },
   "file_extension": ".py",
   "mimetype": "text/x-python",
   "name": "python",
   "nbconvert_exporter": "python",
   "pygments_lexer": "ipython2",
   "version": "2.7.6"
  }
 },
 "nbformat": 4,
 "nbformat_minor": 5
}
